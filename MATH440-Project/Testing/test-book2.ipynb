{
 "cells": [
  {
   "metadata": {},
   "cell_type": "markdown",
   "source": "",
   "id": "c2c205948fb34f3e"
  },
  {
   "metadata": {
    "ExecuteTime": {
     "end_time": "2024-05-07T22:01:36.117787Z",
     "start_time": "2024-05-07T22:01:34.443707Z"
    }
   },
   "cell_type": "code",
   "source": [
    "# Import necessary libraries\n",
    "import pandas as pd\n",
    "import numpy as np\n",
    "import matplotlib.pyplot as plt\n",
    "import seaborn as sns\n",
    "from pandas import DataFrame\n"
   ],
   "id": "c4129774e37fa535",
   "execution_count": 2,
   "outputs": []
  },
  {
   "metadata": {},
   "cell_type": "markdown",
   "source": [
    "# Introduction\n",
    "## Purpose of the Notebook\n",
    "# This notebook is designed to analyze the reported losses from the Russian and Ukrainian conflict,\n",
    "# providing insights into trends and patterns based on available data.... \n",
    "#TODO: EDIT\n"
   ],
   "id": "4e0908d4bc953f0a"
  },
  {
   "metadata": {},
   "cell_type": "markdown",
   "source": [
    "\n",
    "## Data Sources\n",
    "# Data is sourced from:\n",
    "#TODO: Add Sources"
   ],
   "id": "239860d825904378"
  },
  {
   "metadata": {},
   "cell_type": "markdown",
   "source": [
    "# Data Collection\n",
    "## Load Data"
   ],
   "id": "2332b715bfacd9af"
  },
  {
   "metadata": {
    "ExecuteTime": {
     "end_time": "2024-05-07T22:01:37.603585Z",
     "start_time": "2024-05-07T22:01:36.118759Z"
    }
   },
   "cell_type": "code",
   "source": "data: DataFrame = pd.read_excel('Data/SourceFiles/Documented/documented_losses.xlsx')",
   "id": "c102e43ec4cc8a44",
   "execution_count": 3,
   "outputs": []
  },
  {
   "metadata": {},
   "cell_type": "markdown",
   "source": [
    "## Cleaning Data\n",
    "# Handling missing values or incorrect data types"
   ],
   "id": "314058b0d915554"
  },
  {
   "metadata": {
    "ExecuteTime": {
     "end_time": "2024-05-07T22:01:37.607014Z",
     "start_time": "2024-05-07T22:01:37.604208Z"
    }
   },
   "cell_type": "code",
   "source": [
    "#data.dropna(inplace=True)\n",
    "print(data.isnull().sum())\n",
    "print(data.dtypes)"
   ],
   "id": "8547d645af5baead",
   "execution_count": 4,
   "outputs": []
  },
  {
   "metadata": {},
   "cell_type": "markdown",
   "source": [
    "# Clean Column Names\n",
    "# This removes any spaces, converts all characters to lower case, and handles repetitive naming patterns"
   ],
   "id": "d271d4e7090dba3"
  },
  {
   "metadata": {
    "ExecuteTime": {
     "end_time": "2024-05-07T22:01:37.610279Z",
     "start_time": "2024-05-07T22:01:37.608349Z"
    }
   },
   "cell_type": "code",
   "source": "data.columns = [col.strip().replace(' ', '_').lower().replace('.1', '_change') for col in data.columns]",
   "id": "2bcc52eaddf041d",
   "execution_count": 5,
   "outputs": []
  },
  {
   "metadata": {},
   "cell_type": "markdown",
   "source": [
    "# Drop Unnecessary Columns\n",
    "# Identify and drop columns that are entirely empty or not relevant\n"
   ],
   "id": "63dc71dd7ba8e3c1"
  },
  {
   "metadata": {
    "ExecuteTime": {
     "end_time": "2024-05-07T22:01:37.613535Z",
     "start_time": "2024-05-07T22:01:37.610849Z"
    }
   },
   "cell_type": "code",
   "source": [
    "columns_to_drop = [col for col in data.columns if 'unnamed' in col]\n",
    "data.drop(columns=columns_to_drop, inplace=True)"
   ],
   "id": "cd4a62633f5983ce",
   "execution_count": 6,
   "outputs": []
  },
  {
   "metadata": {},
   "cell_type": "markdown",
   "source": [
    "# Convert Date Format\n",
    "# Converts the 'date' column from string to datetime format for better manipulation\n"
   ],
   "id": "72c5f2159a196e14"
  },
  {
   "metadata": {
    "ExecuteTime": {
     "end_time": "2024-05-07T22:01:37.617491Z",
     "start_time": "2024-05-07T22:01:37.614264Z"
    }
   },
   "cell_type": "code",
   "source": "data['date'] = pd.to_datetime(data['date'])",
   "id": "d46cde3e34135772",
   "execution_count": 7,
   "outputs": []
  },
  {
   "metadata": {},
   "cell_type": "markdown",
   "source": [
    "# Handle Missing Values\n",
    "# Fills missing values with zeros for demonstration; adjust this based on your analysis requirements\n",
    "# Display the DataFrame information and the first few rows to verify the changes\n"
   ],
   "id": "ff7bb49af0d82d97"
  },
  {
   "metadata": {
    "ExecuteTime": {
     "end_time": "2024-05-07T22:01:37.626089Z",
     "start_time": "2024-05-07T22:01:37.618015Z"
    }
   },
   "cell_type": "code",
   "source": [
    "data.fillna(0, inplace=True)\n",
    "print(data.info())\n",
    "print(data.head())"
   ],
   "id": "9c9ed5ec0a2ebfc8",
   "execution_count": 8,
   "outputs": []
  },
  {
   "metadata": {},
   "cell_type": "markdown",
   "source": [
    "# Statistical summary of numerical columns\n",
    "\n",
    "# Check unique values and their counts for a specific column, e.g., 'date'\n"
   ],
   "id": "e699619dd0c4936c"
  },
  {
   "metadata": {
    "ExecuteTime": {
     "end_time": "2024-05-07T22:01:37.652444Z",
     "start_time": "2024-05-07T22:01:37.626851Z"
    }
   },
   "cell_type": "code",
   "source": [
    "print(data.describe())\n",
    "print(data['date'].value_counts())"
   ],
   "id": "2be5386e49faa022",
   "execution_count": 9,
   "outputs": []
  },
  {
   "metadata": {},
   "cell_type": "markdown",
   "source": "# Range checks for a numerical column, e.g., 'russia_total'",
   "id": "841184dbb82739d4"
  },
  {
   "metadata": {
    "ExecuteTime": {
     "end_time": "2024-05-07T22:01:37.655748Z",
     "start_time": "2024-05-07T22:01:37.653087Z"
    }
   },
   "cell_type": "code",
   "source": "print(data[data['russia_total'] < 0])  # This should return an empty DataFrame if all values are valid",
   "id": "22c26ed83fe1bcb5",
   "execution_count": 10,
   "outputs": []
  },
  {
   "metadata": {},
   "cell_type": "markdown",
   "source": "# Check date consistency and order\n",
   "id": "e1282260390b1e50"
  },
  {
   "metadata": {
    "ExecuteTime": {
     "end_time": "2024-05-07T22:01:37.659349Z",
     "start_time": "2024-05-07T22:01:37.657401Z"
    }
   },
   "cell_type": "code",
   "source": [
    "print(data['date'].min(), data['date'].max())  # Check the range of dates\n",
    "print(data['date'].is_monotonic_increasing)  # Check if dates are in chronological order"
   ],
   "id": "efe97c580d03e491",
   "execution_count": 11,
   "outputs": []
  },
  {
   "metadata": {},
   "cell_type": "markdown",
   "source": "# Recheck for any null values\n",
   "id": "c6b07894eacb178d"
  },
  {
   "metadata": {
    "ExecuteTime": {
     "end_time": "2024-05-07T22:01:37.662190Z",
     "start_time": "2024-05-07T22:01:37.659974Z"
    }
   },
   "cell_type": "code",
   "source": "print(data.isnull().sum().sum())  # This should return 0 if there are no null values left",
   "id": "18af75a988c84508",
   "execution_count": 12,
   "outputs": []
  },
  {
   "metadata": {},
   "cell_type": "markdown",
   "source": [
    "# Data Analysis\n",
    "## Descriptive Statistics\n"
   ],
   "id": "ed8cb9f49129021c"
  },
  {
   "metadata": {
    "ExecuteTime": {
     "end_time": "2024-05-07T22:01:37.688486Z",
     "start_time": "2024-05-07T22:01:37.662706Z"
    }
   },
   "cell_type": "code",
   "source": "print(data.describe())",
   "id": "1d04a0833b207960",
   "execution_count": 13,
   "outputs": []
  },
  {
   "metadata": {},
   "cell_type": "markdown",
   "source": [
    "## Data Grouping\n",
    "# Group data by a specific criterion"
   ],
   "id": "eac0559036ff6986"
  },
  {
   "metadata": {
    "ExecuteTime": {
     "end_time": "2024-05-07T22:01:38.559656Z",
     "start_time": "2024-05-07T22:01:37.689094Z"
    }
   },
   "cell_type": "code",
   "source": "grouped_data = data.groupby('category').sum() ",
   "id": "85893d903d7789c6",
   "execution_count": 14,
   "outputs": []
  },
  {
   "metadata": {},
   "cell_type": "markdown",
   "source": [
    "# Data Visualization\n",
    "## Time Series Analysis\n"
   ],
   "id": "29092520e6271799"
  },
  {
   "metadata": {
    "ExecuteTime": {
     "end_time": "2024-05-07T22:01:38.560400Z",
     "start_time": "2024-05-07T22:01:38.560351Z"
    }
   },
   "cell_type": "code",
   "source": [
    "plt.figure(figsize=(10, 6))\n",
    "sns.lineplot(data=data, x='date', y='losses')\n",
    "plt.title('Losses Over Time')\n",
    "plt.xlabel('Date')\n",
    "plt.ylabel('Number of Losses')\n",
    "plt.show()"
   ],
   "id": "9fd4d426b01a9c47",
   "execution_count": null,
   "outputs": []
  },
  {
   "metadata": {},
   "cell_type": "markdown",
   "source": [
    "## Comparative Analysis\n",
    "# Bar chart comparing losses by category\n"
   ],
   "id": "42e87a56a2eb69e6"
  },
  {
   "metadata": {},
   "cell_type": "code",
   "source": [
    "plt.figure(figsize=(10, 6))\n",
    "sns.barplot(data=grouped_data, x=grouped_data.index, y='losses')\n",
    "plt.title('Comparative Losses by Category')\n",
    "plt.xlabel('Category')\n",
    "plt.ylabel('Losses')\n",
    "plt.xticks(rotation=45)\n",
    "plt.show()"
   ],
   "id": "f79cbeb7462a8311",
   "execution_count": null,
   "outputs": []
  }
 ],
 "metadata": {
  "kernelspec": {
   "display_name": "Python 3",
   "language": "python",
   "name": "python3"
  },
  "language_info": {
   "codemirror_mode": {
    "name": "ipython",
    "version": 2
   },
   "file_extension": ".py",
   "mimetype": "text/x-python",
   "name": "python",
   "nbconvert_exporter": "python",
   "pygments_lexer": "ipython2",
   "version": "2.7.6"
  }
 },
 "nbformat": 4,
 "nbformat_minor": 5
}
