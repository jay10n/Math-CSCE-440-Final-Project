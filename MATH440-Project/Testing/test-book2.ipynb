{
 "cells": [
  {
   "metadata": {},
   "cell_type": "markdown",
   "source": "",
   "id": "c2c205948fb34f3e"
  },
  {
   "metadata": {
    "ExecuteTime": {
     "end_time": "2024-05-07T22:01:36.117787Z",
     "start_time": "2024-05-07T22:01:34.443707Z"
    }
   },
   "cell_type": "code",
   "source": [
    "# Import necessary libraries\n",
    "import pandas as pd\n",
    "import numpy as np\n",
    "import matplotlib.pyplot as plt\n",
    "import seaborn as sns\n",
    "from pandas import DataFrame\n"
   ],
   "id": "c4129774e37fa535",
   "outputs": [],
   "execution_count": 2
  },
  {
   "metadata": {},
   "cell_type": "markdown",
   "source": [
    "# Introduction\n",
    "## Purpose of the Notebook\n",
    "# This notebook is designed to analyze the reported losses from the Russian and Ukrainian conflict,\n",
    "# providing insights into trends and patterns based on available data.... \n",
    "#TODO: EDIT\n"
   ],
   "id": "4e0908d4bc953f0a"
  },
  {
   "metadata": {},
   "cell_type": "markdown",
   "source": [
    "\n",
    "## Data Sources\n",
    "# Data is sourced from:\n",
    "#TODO: Add Sources"
   ],
   "id": "239860d825904378"
  },
  {
   "metadata": {},
   "cell_type": "markdown",
   "source": [
    "# Data Collection\n",
    "## Load Data"
   ],
   "id": "2332b715bfacd9af"
  },
  {
   "metadata": {
    "ExecuteTime": {
     "end_time": "2024-05-07T22:01:37.603585Z",
     "start_time": "2024-05-07T22:01:36.118759Z"
    }
   },
   "cell_type": "code",
   "source": "data: DataFrame = pd.read_excel('Data/SourceFiles/Documented/documented_losses.xlsx')",
   "id": "c102e43ec4cc8a44",
   "outputs": [],
   "execution_count": 3
  },
  {
   "metadata": {},
   "cell_type": "markdown",
   "source": [
    "## Cleaning Data\n",
    "# Handling missing values or incorrect data types"
   ],
   "id": "314058b0d915554"
  },
  {
   "metadata": {
    "ExecuteTime": {
     "end_time": "2024-05-07T22:01:37.607014Z",
     "start_time": "2024-05-07T22:01:37.604208Z"
    }
   },
   "cell_type": "code",
   "source": [
    "#data.dropna(inplace=True)\n",
    "print(data.isnull().sum())\n",
    "print(data.dtypes)"
   ],
   "id": "8547d645af5baead",
   "outputs": [
    {
     "name": "stdout",
     "output_type": "stream",
     "text": [
      "Date                                  0\n",
      "Russia_Total                          0\n",
      "Change                                1\n",
      "Ukraine_Total                         0\n",
      "Change.1                              1\n",
      "                                   ... \n",
      "Ukraine_Artillery                     0\n",
      "Unnamed: 63                         775\n",
      "UNHCR_Ukraine_Border                572\n",
      "UNHCR_Ukraine_Refugees              572\n",
      "UNHCR_Returning_Ukraine_Refugees    573\n",
      "Length: 67, dtype: int64\n",
      "Date                                 object\n",
      "Russia_Total                          int64\n",
      "Change                              float64\n",
      "Ukraine_Total                         int64\n",
      "Change.1                            float64\n",
      "                                     ...   \n",
      "Ukraine_Artillery                     int64\n",
      "Unnamed: 63                         float64\n",
      "UNHCR_Ukraine_Border                float64\n",
      "UNHCR_Ukraine_Refugees              float64\n",
      "UNHCR_Returning_Ukraine_Refugees    float64\n",
      "Length: 67, dtype: object\n"
     ]
    }
   ],
   "execution_count": 4
  },
  {
   "metadata": {},
   "cell_type": "markdown",
   "source": [
    "# Clean Column Names\n",
    "# This removes any spaces, converts all characters to lower case, and handles repetitive naming patterns"
   ],
   "id": "d271d4e7090dba3"
  },
  {
   "metadata": {
    "ExecuteTime": {
     "end_time": "2024-05-07T22:01:37.610279Z",
     "start_time": "2024-05-07T22:01:37.608349Z"
    }
   },
   "cell_type": "code",
   "source": "data.columns = [col.strip().replace(' ', '_').lower().replace('.1', '_change') for col in data.columns]",
   "id": "2bcc52eaddf041d",
   "outputs": [],
   "execution_count": 5
  },
  {
   "metadata": {},
   "cell_type": "markdown",
   "source": [
    "# Drop Unnecessary Columns\n",
    "# Identify and drop columns that are entirely empty or not relevant\n"
   ],
   "id": "63dc71dd7ba8e3c1"
  },
  {
   "metadata": {
    "ExecuteTime": {
     "end_time": "2024-05-07T22:01:37.613535Z",
     "start_time": "2024-05-07T22:01:37.610849Z"
    }
   },
   "cell_type": "code",
   "source": [
    "columns_to_drop = [col for col in data.columns if 'unnamed' in col]\n",
    "data.drop(columns=columns_to_drop, inplace=True)"
   ],
   "id": "cd4a62633f5983ce",
   "outputs": [],
   "execution_count": 6
  },
  {
   "metadata": {},
   "cell_type": "markdown",
   "source": [
    "# Convert Date Format\n",
    "# Converts the 'date' column from string to datetime format for better manipulation\n"
   ],
   "id": "72c5f2159a196e14"
  },
  {
   "metadata": {
    "ExecuteTime": {
     "end_time": "2024-05-07T22:01:37.617491Z",
     "start_time": "2024-05-07T22:01:37.614264Z"
    }
   },
   "cell_type": "code",
   "source": "data['date'] = pd.to_datetime(data['date'])",
   "id": "d46cde3e34135772",
   "outputs": [],
   "execution_count": 7
  },
  {
   "metadata": {},
   "cell_type": "markdown",
   "source": [
    "# Handle Missing Values\n",
    "# Fills missing values with zeros for demonstration; adjust this based on your analysis requirements\n",
    "# Display the DataFrame information and the first few rows to verify the changes\n"
   ],
   "id": "ff7bb49af0d82d97"
  },
  {
   "metadata": {
    "ExecuteTime": {
     "end_time": "2024-05-07T22:01:37.626089Z",
     "start_time": "2024-05-07T22:01:37.618015Z"
    }
   },
   "cell_type": "code",
   "source": [
    "data.fillna(0, inplace=True)\n",
    "print(data.info())\n",
    "print(data.head())"
   ],
   "id": "9c9ed5ec0a2ebfc8",
   "outputs": [
    {
     "name": "stdout",
     "output_type": "stream",
     "text": [
      "<class 'pandas.core.frame.DataFrame'>\n",
      "RangeIndex: 775 entries, 0 to 774\n",
      "Data columns (total 49 columns):\n",
      " #   Column                            Non-Null Count  Dtype         \n",
      "---  ------                            --------------  -----         \n",
      " 0   date                              775 non-null    datetime64[ns]\n",
      " 1   russia_total                      775 non-null    int64         \n",
      " 2   change                            775 non-null    float64       \n",
      " 3   ukraine_total                     775 non-null    int64         \n",
      " 4   change_change                     775 non-null    float64       \n",
      " 5   ratio_ru/ua                       775 non-null    float64       \n",
      " 6   russia_destroyed                  775 non-null    int64         \n",
      " 7   ukraine_destroyed                 775 non-null    int64         \n",
      " 8   russia_damaged                    775 non-null    int64         \n",
      " 9   ukraine_damaged                   775 non-null    int64         \n",
      " 10  ukraine_abandoned                 775 non-null    int64         \n",
      " 11  russia_abandoned                  775 non-null    int64         \n",
      " 12  russia_captured                   775 non-null    int64         \n",
      " 13  ukraine_captured                  775 non-null    int64         \n",
      " 14  russia_tanks                      775 non-null    int64         \n",
      " 15  ukraine_tanks                     775 non-null    int64         \n",
      " 16  russia_tank_capture               775 non-null    int64         \n",
      " 17  ukraine_tank_capture              775 non-null    int64         \n",
      " 18  russia_afv                        775 non-null    int64         \n",
      " 19  ukraine_afv                       775 non-null    int64         \n",
      " 20  russia_afv_capture                775 non-null    int64         \n",
      " 21  ukraine_afv_capture               775 non-null    int64         \n",
      " 22  russia_ifv                        775 non-null    int64         \n",
      " 23  ukraine_ifv                       775 non-null    int64         \n",
      " 24  russia_apc                        775 non-null    int64         \n",
      " 25  ukraine_apc                       775 non-null    int64         \n",
      " 26  russia_imv                        775 non-null    int64         \n",
      " 27  ukraine_imv                       775 non-null    float64       \n",
      " 28  russia_engineering                775 non-null    int64         \n",
      " 29  ukraine_engineering               775 non-null    int64         \n",
      " 30  russia_coms                       775 non-null    int64         \n",
      " 31  ukraine_coms                      775 non-null    int64         \n",
      " 32  russia_vehicles                   775 non-null    int64         \n",
      " 33  ukraine_vehicles                  775 non-null    int64         \n",
      " 34  russia_aircraft                   775 non-null    int64         \n",
      " 35  ukraine_aircraft                  775 non-null    int64         \n",
      " 36  russia_infantry                   775 non-null    int64         \n",
      " 37  ukraine_infantry                  775 non-null    float64       \n",
      " 38  russia_logistics                  775 non-null    int64         \n",
      " 39  ukraine_logistics                 775 non-null    int64         \n",
      " 40  russia_armor                      775 non-null    int64         \n",
      " 41  ukraine_armor                     775 non-null    int64         \n",
      " 42  russia_antiair                    775 non-null    int64         \n",
      " 43  ukraine_antiair                   775 non-null    int64         \n",
      " 44  russia_artillery                  775 non-null    int64         \n",
      " 45  ukraine_artillery                 775 non-null    int64         \n",
      " 46  unhcr_ukraine_border              775 non-null    float64       \n",
      " 47  unhcr_ukraine_refugees            775 non-null    float64       \n",
      " 48  unhcr_returning_ukraine_refugees  775 non-null    float64       \n",
      "dtypes: datetime64[ns](1), float64(8), int64(40)\n",
      "memory usage: 296.8 KB\n",
      "None\n",
      "        date  russia_total  change  ukraine_total  change_change  ratio_ru/ua  \\\n",
      "0 2022-02-24             0     0.0              0            0.0     0.000000   \n",
      "1 2022-02-25            52    52.0             59           59.0     0.881356   \n",
      "2 2022-02-26           107    55.0             88           29.0     1.215909   \n",
      "3 2022-02-27           161    54.0             96            8.0     1.677083   \n",
      "4 2022-02-28           321   160.0            147           51.0     2.183673   \n",
      "\n",
      "   russia_destroyed  ukraine_destroyed  russia_damaged  ukraine_damaged  ...  \\\n",
      "0                 0                  0               0                0  ...   \n",
      "1                25                 27               5                5  ...   \n",
      "2                42                 36               6                4  ...   \n",
      "3                71                 38               6                4  ...   \n",
      "4               139                 53               7                4  ...   \n",
      "\n",
      "   ukraine_logistics  russia_armor  ukraine_armor  russia_antiair  \\\n",
      "0                  0             6              1               1   \n",
      "1                  0             9              5               2   \n",
      "2                  0            14             10               3   \n",
      "3                  0            20             10               4   \n",
      "4                  0            72             27              15   \n",
      "\n",
      "   ukraine_antiair  russia_artillery  ukraine_artillery  unhcr_ukraine_border  \\\n",
      "0                6                 0                  2               84681.0   \n",
      "1                8                 4                  2              192982.0   \n",
      "2                9                 4                  4              341301.0   \n",
      "3                9                 4                  4              509665.0   \n",
      "4               11                 9                  7              672139.0   \n",
      "\n",
      "   unhcr_ukraine_refugees  unhcr_returning_ukraine_refugees  \n",
      "0                 84681.0                               0.0  \n",
      "1                170245.0                           22737.0  \n",
      "2                306171.0                           35130.0  \n",
      "3                463553.0                           46112.0  \n",
      "4                616830.0                           55309.0  \n",
      "\n",
      "[5 rows x 49 columns]\n"
     ]
    }
   ],
   "execution_count": 8
  },
  {
   "metadata": {},
   "cell_type": "markdown",
   "source": [
    "# Statistical summary of numerical columns\n",
    "\n",
    "# Check unique values and their counts for a specific column, e.g., 'date'\n"
   ],
   "id": "e699619dd0c4936c"
  },
  {
   "metadata": {
    "ExecuteTime": {
     "end_time": "2024-05-07T22:01:37.652444Z",
     "start_time": "2024-05-07T22:01:37.626851Z"
    }
   },
   "cell_type": "code",
   "source": [
    "print(data.describe())\n",
    "print(data['date'].value_counts())"
   ],
   "id": "2be5386e49faa022",
   "outputs": [
    {
     "name": "stdout",
     "output_type": "stream",
     "text": [
      "                                date  russia_total      change  ukraine_total  \\\n",
      "count                            775    775.000000  775.000000     775.000000   \n",
      "mean   2023-03-17 23:59:59.999999744   9111.423226   19.695484    3031.383226   \n",
      "min              2022-02-24 00:00:00      0.000000  -65.000000       0.000000   \n",
      "25%              2022-09-05 12:00:00   5478.000000    0.000000    1556.000000   \n",
      "50%              2023-03-18 00:00:00   9678.000000    9.000000    3101.000000   \n",
      "75%              2023-09-27 12:00:00  12297.000000   33.000000    4502.000000   \n",
      "max              2024-04-08 00:00:00  15264.000000  279.000000    5526.000000   \n",
      "std                              NaN   3879.981356   28.564993    1527.558413   \n",
      "\n",
      "       change_change  ratio_ru/ua  russia_destroyed  ukraine_destroyed  \\\n",
      "count     775.000000   775.000000        775.000000         775.000000   \n",
      "mean        7.130323     3.164233       6022.892903        1958.929032   \n",
      "min       -30.000000     0.000000          0.000000           0.000000   \n",
      "25%         0.000000     2.790482       3565.000000         874.000000   \n",
      "50%         2.000000     3.119931       6200.000000        1978.000000   \n",
      "75%        11.000000     3.516746       8457.500000        3040.000000   \n",
      "max       186.000000     4.178841      10780.000000        3824.000000   \n",
      "std        13.924577     0.416828       2855.173325        1121.378971   \n",
      "\n",
      "       russia_damaged  ukraine_damaged  ...  ukraine_logistics  russia_armor  \\\n",
      "count      775.000000       775.000000  ...         775.000000     775.00000   \n",
      "mean       320.602581       193.227097  ...          67.481290    2490.96000   \n",
      "min          0.000000         0.000000  ...           0.000000       6.00000   \n",
      "25%        134.000000        38.000000  ...          30.000000    1535.00000   \n",
      "50%        282.000000       157.000000  ...          56.000000    2656.00000   \n",
      "75%        499.000000       345.000000  ...         101.000000    3316.00000   \n",
      "max        698.000000       472.000000  ...         170.000000    4191.00000   \n",
      "std        209.949451       149.766847  ...          46.555564    1044.70441   \n",
      "\n",
      "       ukraine_armor  russia_antiair  ukraine_antiair  russia_artillery  \\\n",
      "count     775.000000      775.000000       775.000000        775.000000   \n",
      "mean      457.299355      164.367742       144.258065        568.379355   \n",
      "min         1.000000        1.000000         6.000000          0.000000   \n",
      "25%       252.000000      102.000000        69.000000        256.000000   \n",
      "50%       477.000000      147.000000       143.000000        559.000000   \n",
      "75%       655.500000      234.500000       215.000000        846.500000   \n",
      "max       793.000000      306.000000       262.000000       1074.000000   \n",
      "std       211.862635       75.852112        69.081145        305.933346   \n",
      "\n",
      "       ukraine_artillery  unhcr_ukraine_border  unhcr_ukraine_refugees  \\\n",
      "count         775.000000          7.750000e+02            7.750000e+02   \n",
      "mean          281.509677          2.110978e+06            1.304602e+06   \n",
      "min             2.000000          0.000000e+00            0.000000e+00   \n",
      "25%           126.000000          0.000000e+00            0.000000e+00   \n",
      "50%           273.000000          0.000000e+00            0.000000e+00   \n",
      "75%           431.500000          1.472076e+06            1.370023e+06   \n",
      "max           576.000000          2.092233e+07            8.650252e+06   \n",
      "std           163.154584          4.279784e+06            2.378079e+06   \n",
      "\n",
      "       unhcr_returning_ukraine_refugees  \n",
      "count                      7.750000e+02  \n",
      "mean                       8.063753e+05  \n",
      "min                        0.000000e+00  \n",
      "25%                        0.000000e+00  \n",
      "50%                        0.000000e+00  \n",
      "75%                        1.020530e+05  \n",
      "max                        1.227208e+07  \n",
      "std                        2.039801e+06  \n",
      "\n",
      "[8 rows x 49 columns]\n",
      "date\n",
      "2022-02-24    1\n",
      "2023-06-24    1\n",
      "2023-07-20    1\n",
      "2023-07-21    1\n",
      "2023-07-22    1\n",
      "             ..\n",
      "2022-11-12    1\n",
      "2022-11-13    1\n",
      "2022-11-14    1\n",
      "2022-11-15    1\n",
      "2024-04-08    1\n",
      "Name: count, Length: 775, dtype: int64\n"
     ]
    }
   ],
   "execution_count": 9
  },
  {
   "metadata": {},
   "cell_type": "markdown",
   "source": "# Range checks for a numerical column, e.g., 'russia_total'",
   "id": "841184dbb82739d4"
  },
  {
   "metadata": {
    "ExecuteTime": {
     "end_time": "2024-05-07T22:01:37.655748Z",
     "start_time": "2024-05-07T22:01:37.653087Z"
    }
   },
   "cell_type": "code",
   "source": "print(data[data['russia_total'] < 0])  # This should return an empty DataFrame if all values are valid",
   "id": "22c26ed83fe1bcb5",
   "outputs": [
    {
     "name": "stdout",
     "output_type": "stream",
     "text": [
      "Empty DataFrame\n",
      "Columns: [date, russia_total, change, ukraine_total, change_change, ratio_ru/ua, russia_destroyed, ukraine_destroyed, russia_damaged, ukraine_damaged, ukraine_abandoned, russia_abandoned, russia_captured, ukraine_captured, russia_tanks, ukraine_tanks, russia_tank_capture, ukraine_tank_capture, russia_afv, ukraine_afv, russia_afv_capture, ukraine_afv_capture, russia_ifv, ukraine_ifv, russia_apc, ukraine_apc, russia_imv, ukraine_imv, russia_engineering, ukraine_engineering, russia_coms, ukraine_coms, russia_vehicles, ukraine_vehicles, russia_aircraft, ukraine_aircraft, russia_infantry, ukraine_infantry, russia_logistics, ukraine_logistics, russia_armor, ukraine_armor, russia_antiair, ukraine_antiair, russia_artillery, ukraine_artillery, unhcr_ukraine_border, unhcr_ukraine_refugees, unhcr_returning_ukraine_refugees]\n",
      "Index: []\n",
      "\n",
      "[0 rows x 49 columns]\n"
     ]
    }
   ],
   "execution_count": 10
  },
  {
   "metadata": {},
   "cell_type": "markdown",
   "source": "# Check date consistency and order\n",
   "id": "e1282260390b1e50"
  },
  {
   "metadata": {
    "ExecuteTime": {
     "end_time": "2024-05-07T22:01:37.659349Z",
     "start_time": "2024-05-07T22:01:37.657401Z"
    }
   },
   "cell_type": "code",
   "source": [
    "print(data['date'].min(), data['date'].max())  # Check the range of dates\n",
    "print(data['date'].is_monotonic_increasing)  # Check if dates are in chronological order"
   ],
   "id": "efe97c580d03e491",
   "outputs": [
    {
     "name": "stdout",
     "output_type": "stream",
     "text": [
      "2022-02-24 00:00:00 2024-04-08 00:00:00\n",
      "True\n"
     ]
    }
   ],
   "execution_count": 11
  },
  {
   "metadata": {},
   "cell_type": "markdown",
   "source": "# Recheck for any null values\n",
   "id": "c6b07894eacb178d"
  },
  {
   "metadata": {
    "ExecuteTime": {
     "end_time": "2024-05-07T22:01:37.662190Z",
     "start_time": "2024-05-07T22:01:37.659974Z"
    }
   },
   "cell_type": "code",
   "source": "print(data.isnull().sum().sum())  # This should return 0 if there are no null values left",
   "id": "18af75a988c84508",
   "outputs": [
    {
     "name": "stdout",
     "output_type": "stream",
     "text": [
      "0\n"
     ]
    }
   ],
   "execution_count": 12
  },
  {
   "metadata": {},
   "cell_type": "markdown",
   "source": [
    "# Data Analysis\n",
    "## Descriptive Statistics\n"
   ],
   "id": "ed8cb9f49129021c"
  },
  {
   "metadata": {
    "ExecuteTime": {
     "end_time": "2024-05-07T22:01:37.688486Z",
     "start_time": "2024-05-07T22:01:37.662706Z"
    }
   },
   "cell_type": "code",
   "source": "print(data.describe())",
   "id": "1d04a0833b207960",
   "outputs": [
    {
     "name": "stdout",
     "output_type": "stream",
     "text": [
      "                                date  russia_total      change  ukraine_total  \\\n",
      "count                            775    775.000000  775.000000     775.000000   \n",
      "mean   2023-03-17 23:59:59.999999744   9111.423226   19.695484    3031.383226   \n",
      "min              2022-02-24 00:00:00      0.000000  -65.000000       0.000000   \n",
      "25%              2022-09-05 12:00:00   5478.000000    0.000000    1556.000000   \n",
      "50%              2023-03-18 00:00:00   9678.000000    9.000000    3101.000000   \n",
      "75%              2023-09-27 12:00:00  12297.000000   33.000000    4502.000000   \n",
      "max              2024-04-08 00:00:00  15264.000000  279.000000    5526.000000   \n",
      "std                              NaN   3879.981356   28.564993    1527.558413   \n",
      "\n",
      "       change_change  ratio_ru/ua  russia_destroyed  ukraine_destroyed  \\\n",
      "count     775.000000   775.000000        775.000000         775.000000   \n",
      "mean        7.130323     3.164233       6022.892903        1958.929032   \n",
      "min       -30.000000     0.000000          0.000000           0.000000   \n",
      "25%         0.000000     2.790482       3565.000000         874.000000   \n",
      "50%         2.000000     3.119931       6200.000000        1978.000000   \n",
      "75%        11.000000     3.516746       8457.500000        3040.000000   \n",
      "max       186.000000     4.178841      10780.000000        3824.000000   \n",
      "std        13.924577     0.416828       2855.173325        1121.378971   \n",
      "\n",
      "       russia_damaged  ukraine_damaged  ...  ukraine_logistics  russia_armor  \\\n",
      "count      775.000000       775.000000  ...         775.000000     775.00000   \n",
      "mean       320.602581       193.227097  ...          67.481290    2490.96000   \n",
      "min          0.000000         0.000000  ...           0.000000       6.00000   \n",
      "25%        134.000000        38.000000  ...          30.000000    1535.00000   \n",
      "50%        282.000000       157.000000  ...          56.000000    2656.00000   \n",
      "75%        499.000000       345.000000  ...         101.000000    3316.00000   \n",
      "max        698.000000       472.000000  ...         170.000000    4191.00000   \n",
      "std        209.949451       149.766847  ...          46.555564    1044.70441   \n",
      "\n",
      "       ukraine_armor  russia_antiair  ukraine_antiair  russia_artillery  \\\n",
      "count     775.000000      775.000000       775.000000        775.000000   \n",
      "mean      457.299355      164.367742       144.258065        568.379355   \n",
      "min         1.000000        1.000000         6.000000          0.000000   \n",
      "25%       252.000000      102.000000        69.000000        256.000000   \n",
      "50%       477.000000      147.000000       143.000000        559.000000   \n",
      "75%       655.500000      234.500000       215.000000        846.500000   \n",
      "max       793.000000      306.000000       262.000000       1074.000000   \n",
      "std       211.862635       75.852112        69.081145        305.933346   \n",
      "\n",
      "       ukraine_artillery  unhcr_ukraine_border  unhcr_ukraine_refugees  \\\n",
      "count         775.000000          7.750000e+02            7.750000e+02   \n",
      "mean          281.509677          2.110978e+06            1.304602e+06   \n",
      "min             2.000000          0.000000e+00            0.000000e+00   \n",
      "25%           126.000000          0.000000e+00            0.000000e+00   \n",
      "50%           273.000000          0.000000e+00            0.000000e+00   \n",
      "75%           431.500000          1.472076e+06            1.370023e+06   \n",
      "max           576.000000          2.092233e+07            8.650252e+06   \n",
      "std           163.154584          4.279784e+06            2.378079e+06   \n",
      "\n",
      "       unhcr_returning_ukraine_refugees  \n",
      "count                      7.750000e+02  \n",
      "mean                       8.063753e+05  \n",
      "min                        0.000000e+00  \n",
      "25%                        0.000000e+00  \n",
      "50%                        0.000000e+00  \n",
      "75%                        1.020530e+05  \n",
      "max                        1.227208e+07  \n",
      "std                        2.039801e+06  \n",
      "\n",
      "[8 rows x 49 columns]\n"
     ]
    }
   ],
   "execution_count": 13
  },
  {
   "metadata": {},
   "cell_type": "markdown",
   "source": [
    "## Data Grouping\n",
    "# Group data by a specific criterion"
   ],
   "id": "eac0559036ff6986"
  },
  {
   "metadata": {
    "ExecuteTime": {
     "end_time": "2024-05-07T22:01:38.559656Z",
     "start_time": "2024-05-07T22:01:37.689094Z"
    }
   },
   "cell_type": "code",
   "source": "grouped_data = data.groupby('category').sum() ",
   "id": "85893d903d7789c6",
   "outputs": [
    {
     "ename": "KeyError",
     "evalue": "'category'",
     "output_type": "error",
     "traceback": [
      "\u001B[0;31m---------------------------------------------------------------------------\u001B[0m",
      "\u001B[0;31mKeyError\u001B[0m                                  Traceback (most recent call last)",
      "Cell \u001B[0;32mIn[14], line 1\u001B[0m\n\u001B[0;32m----> 1\u001B[0m grouped_data \u001B[38;5;241m=\u001B[39m \u001B[43mdata\u001B[49m\u001B[38;5;241;43m.\u001B[39;49m\u001B[43mgroupby\u001B[49m\u001B[43m(\u001B[49m\u001B[38;5;124;43m'\u001B[39;49m\u001B[38;5;124;43mcategory\u001B[39;49m\u001B[38;5;124;43m'\u001B[39;49m\u001B[43m)\u001B[49m\u001B[38;5;241m.\u001B[39msum()\n",
      "File \u001B[0;32m/opt/homebrew/Caskroom/miniconda/base/envs/math440/lib/python3.8/site-packages/pandas/core/frame.py:8252\u001B[0m, in \u001B[0;36mDataFrame.groupby\u001B[0;34m(self, by, axis, level, as_index, sort, group_keys, observed, dropna)\u001B[0m\n\u001B[1;32m   8249\u001B[0m     \u001B[38;5;28;01mraise\u001B[39;00m \u001B[38;5;167;01mTypeError\u001B[39;00m(\u001B[38;5;124m\"\u001B[39m\u001B[38;5;124mYou have to supply one of \u001B[39m\u001B[38;5;124m'\u001B[39m\u001B[38;5;124mby\u001B[39m\u001B[38;5;124m'\u001B[39m\u001B[38;5;124m and \u001B[39m\u001B[38;5;124m'\u001B[39m\u001B[38;5;124mlevel\u001B[39m\u001B[38;5;124m'\u001B[39m\u001B[38;5;124m\"\u001B[39m)\n\u001B[1;32m   8250\u001B[0m axis \u001B[38;5;241m=\u001B[39m \u001B[38;5;28mself\u001B[39m\u001B[38;5;241m.\u001B[39m_get_axis_number(axis)\n\u001B[0;32m-> 8252\u001B[0m \u001B[38;5;28;01mreturn\u001B[39;00m \u001B[43mDataFrameGroupBy\u001B[49m\u001B[43m(\u001B[49m\n\u001B[1;32m   8253\u001B[0m \u001B[43m    \u001B[49m\u001B[43mobj\u001B[49m\u001B[38;5;241;43m=\u001B[39;49m\u001B[38;5;28;43mself\u001B[39;49m\u001B[43m,\u001B[49m\n\u001B[1;32m   8254\u001B[0m \u001B[43m    \u001B[49m\u001B[43mkeys\u001B[49m\u001B[38;5;241;43m=\u001B[39;49m\u001B[43mby\u001B[49m\u001B[43m,\u001B[49m\n\u001B[1;32m   8255\u001B[0m \u001B[43m    \u001B[49m\u001B[43maxis\u001B[49m\u001B[38;5;241;43m=\u001B[39;49m\u001B[43maxis\u001B[49m\u001B[43m,\u001B[49m\n\u001B[1;32m   8256\u001B[0m \u001B[43m    \u001B[49m\u001B[43mlevel\u001B[49m\u001B[38;5;241;43m=\u001B[39;49m\u001B[43mlevel\u001B[49m\u001B[43m,\u001B[49m\n\u001B[1;32m   8257\u001B[0m \u001B[43m    \u001B[49m\u001B[43mas_index\u001B[49m\u001B[38;5;241;43m=\u001B[39;49m\u001B[43mas_index\u001B[49m\u001B[43m,\u001B[49m\n\u001B[1;32m   8258\u001B[0m \u001B[43m    \u001B[49m\u001B[43msort\u001B[49m\u001B[38;5;241;43m=\u001B[39;49m\u001B[43msort\u001B[49m\u001B[43m,\u001B[49m\n\u001B[1;32m   8259\u001B[0m \u001B[43m    \u001B[49m\u001B[43mgroup_keys\u001B[49m\u001B[38;5;241;43m=\u001B[39;49m\u001B[43mgroup_keys\u001B[49m\u001B[43m,\u001B[49m\n\u001B[1;32m   8260\u001B[0m \u001B[43m    \u001B[49m\u001B[43mobserved\u001B[49m\u001B[38;5;241;43m=\u001B[39;49m\u001B[43mobserved\u001B[49m\u001B[43m,\u001B[49m\n\u001B[1;32m   8261\u001B[0m \u001B[43m    \u001B[49m\u001B[43mdropna\u001B[49m\u001B[38;5;241;43m=\u001B[39;49m\u001B[43mdropna\u001B[49m\u001B[43m,\u001B[49m\n\u001B[1;32m   8262\u001B[0m \u001B[43m\u001B[49m\u001B[43m)\u001B[49m\n",
      "File \u001B[0;32m/opt/homebrew/Caskroom/miniconda/base/envs/math440/lib/python3.8/site-packages/pandas/core/groupby/groupby.py:931\u001B[0m, in \u001B[0;36mGroupBy.__init__\u001B[0;34m(self, obj, keys, axis, level, grouper, exclusions, selection, as_index, sort, group_keys, observed, dropna)\u001B[0m\n\u001B[1;32m    928\u001B[0m \u001B[38;5;28mself\u001B[39m\u001B[38;5;241m.\u001B[39mdropna \u001B[38;5;241m=\u001B[39m dropna\n\u001B[1;32m    930\u001B[0m \u001B[38;5;28;01mif\u001B[39;00m grouper \u001B[38;5;129;01mis\u001B[39;00m \u001B[38;5;28;01mNone\u001B[39;00m:\n\u001B[0;32m--> 931\u001B[0m     grouper, exclusions, obj \u001B[38;5;241m=\u001B[39m \u001B[43mget_grouper\u001B[49m\u001B[43m(\u001B[49m\n\u001B[1;32m    932\u001B[0m \u001B[43m        \u001B[49m\u001B[43mobj\u001B[49m\u001B[43m,\u001B[49m\n\u001B[1;32m    933\u001B[0m \u001B[43m        \u001B[49m\u001B[43mkeys\u001B[49m\u001B[43m,\u001B[49m\n\u001B[1;32m    934\u001B[0m \u001B[43m        \u001B[49m\u001B[43maxis\u001B[49m\u001B[38;5;241;43m=\u001B[39;49m\u001B[43maxis\u001B[49m\u001B[43m,\u001B[49m\n\u001B[1;32m    935\u001B[0m \u001B[43m        \u001B[49m\u001B[43mlevel\u001B[49m\u001B[38;5;241;43m=\u001B[39;49m\u001B[43mlevel\u001B[49m\u001B[43m,\u001B[49m\n\u001B[1;32m    936\u001B[0m \u001B[43m        \u001B[49m\u001B[43msort\u001B[49m\u001B[38;5;241;43m=\u001B[39;49m\u001B[43msort\u001B[49m\u001B[43m,\u001B[49m\n\u001B[1;32m    937\u001B[0m \u001B[43m        \u001B[49m\u001B[43mobserved\u001B[49m\u001B[38;5;241;43m=\u001B[39;49m\u001B[43mobserved\u001B[49m\u001B[43m,\u001B[49m\n\u001B[1;32m    938\u001B[0m \u001B[43m        \u001B[49m\u001B[43mdropna\u001B[49m\u001B[38;5;241;43m=\u001B[39;49m\u001B[38;5;28;43mself\u001B[39;49m\u001B[38;5;241;43m.\u001B[39;49m\u001B[43mdropna\u001B[49m\u001B[43m,\u001B[49m\n\u001B[1;32m    939\u001B[0m \u001B[43m    \u001B[49m\u001B[43m)\u001B[49m\n\u001B[1;32m    941\u001B[0m \u001B[38;5;28mself\u001B[39m\u001B[38;5;241m.\u001B[39mobj \u001B[38;5;241m=\u001B[39m obj\n\u001B[1;32m    942\u001B[0m \u001B[38;5;28mself\u001B[39m\u001B[38;5;241m.\u001B[39maxis \u001B[38;5;241m=\u001B[39m obj\u001B[38;5;241m.\u001B[39m_get_axis_number(axis)\n",
      "File \u001B[0;32m/opt/homebrew/Caskroom/miniconda/base/envs/math440/lib/python3.8/site-packages/pandas/core/groupby/grouper.py:985\u001B[0m, in \u001B[0;36mget_grouper\u001B[0;34m(obj, key, axis, level, sort, observed, validate, dropna)\u001B[0m\n\u001B[1;32m    983\u001B[0m         in_axis, level, gpr \u001B[38;5;241m=\u001B[39m \u001B[38;5;28;01mFalse\u001B[39;00m, gpr, \u001B[38;5;28;01mNone\u001B[39;00m\n\u001B[1;32m    984\u001B[0m     \u001B[38;5;28;01melse\u001B[39;00m:\n\u001B[0;32m--> 985\u001B[0m         \u001B[38;5;28;01mraise\u001B[39;00m \u001B[38;5;167;01mKeyError\u001B[39;00m(gpr)\n\u001B[1;32m    986\u001B[0m \u001B[38;5;28;01melif\u001B[39;00m \u001B[38;5;28misinstance\u001B[39m(gpr, Grouper) \u001B[38;5;129;01mand\u001B[39;00m gpr\u001B[38;5;241m.\u001B[39mkey \u001B[38;5;129;01mis\u001B[39;00m \u001B[38;5;129;01mnot\u001B[39;00m \u001B[38;5;28;01mNone\u001B[39;00m:\n\u001B[1;32m    987\u001B[0m     \u001B[38;5;66;03m# Add key to exclusions\u001B[39;00m\n\u001B[1;32m    988\u001B[0m     exclusions\u001B[38;5;241m.\u001B[39madd(gpr\u001B[38;5;241m.\u001B[39mkey)\n",
      "\u001B[0;31mKeyError\u001B[0m: 'category'"
     ]
    }
   ],
   "execution_count": 14
  },
  {
   "metadata": {},
   "cell_type": "markdown",
   "source": [
    "# Data Visualization\n",
    "## Time Series Analysis\n"
   ],
   "id": "29092520e6271799"
  },
  {
   "metadata": {
    "ExecuteTime": {
     "end_time": "2024-05-07T22:01:38.560400Z",
     "start_time": "2024-05-07T22:01:38.560351Z"
    }
   },
   "cell_type": "code",
   "source": [
    "plt.figure(figsize=(10, 6))\n",
    "sns.lineplot(data=data, x='date', y='losses')\n",
    "plt.title('Losses Over Time')\n",
    "plt.xlabel('Date')\n",
    "plt.ylabel('Number of Losses')\n",
    "plt.show()"
   ],
   "id": "9fd4d426b01a9c47",
   "outputs": [],
   "execution_count": null
  },
  {
   "metadata": {},
   "cell_type": "markdown",
   "source": [
    "## Comparative Analysis\n",
    "# Bar chart comparing losses by category\n"
   ],
   "id": "42e87a56a2eb69e6"
  },
  {
   "metadata": {},
   "cell_type": "code",
   "source": [
    "plt.figure(figsize=(10, 6))\n",
    "sns.barplot(data=grouped_data, x=grouped_data.index, y='losses')\n",
    "plt.title('Comparative Losses by Category')\n",
    "plt.xlabel('Category')\n",
    "plt.ylabel('Losses')\n",
    "plt.xticks(rotation=45)\n",
    "plt.show()"
   ],
   "id": "f79cbeb7462a8311",
   "outputs": [],
   "execution_count": null
  }
 ],
 "metadata": {
  "kernelspec": {
   "display_name": "Python 3",
   "language": "python",
   "name": "python3"
  },
  "language_info": {
   "codemirror_mode": {
    "name": "ipython",
    "version": 2
   },
   "file_extension": ".py",
   "mimetype": "text/x-python",
   "name": "python",
   "nbconvert_exporter": "python",
   "pygments_lexer": "ipython2",
   "version": "2.7.6"
  }
 },
 "nbformat": 4,
 "nbformat_minor": 5
}
